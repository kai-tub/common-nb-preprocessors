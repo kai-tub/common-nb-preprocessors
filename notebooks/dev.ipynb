{
 "cells": [
  {
   "cell_type": "code",
   "execution_count": null,
   "metadata": {},
   "outputs": [],
   "source": [
    "from common_nb_preprocessors._constant_builder import *\n",
    "\n",
    "myst_cell_tags()"
   ]
  },
  {
   "cell_type": "code",
   "execution_count": null,
   "metadata": {},
   "outputs": [],
   "source": [
    "from common_nb_preprocessors.myst_nb import MystNBCellConf, MystNBCellTags\n",
    "\n",
    "set(str(e) for e in MystNBCellConf)"
   ]
  },
  {
   "cell_type": "code",
   "execution_count": null,
   "metadata": {},
   "outputs": [],
   "source": [
    "set(MystNBCellTags)"
   ]
  },
  {
   "cell_type": "code",
   "execution_count": null,
   "metadata": {},
   "outputs": [],
   "source": [
    "str(MystNBCellConf.error_lexer)"
   ]
  },
  {
   "cell_type": "code",
   "execution_count": null,
   "metadata": {},
   "outputs": [],
   "source": [
    "jupyter_book_cell_tags()"
   ]
  },
  {
   "cell_type": "code",
   "execution_count": null,
   "metadata": {},
   "outputs": [],
   "source": [
    "myst_cell_conf()"
   ]
  },
  {
   "cell_type": "code",
   "execution_count": null,
   "metadata": {},
   "outputs": [],
   "source": [
    "from common_nb_preprocessors._patterns import build_prefixed_regex_pattern_with_value\n",
    "\n",
    "\n",
    "prefix = \"0\"\n",
    "key_term = \"0\"\n",
    "delimiter = \"0\"\n",
    "# spacer=u\"\\xa0\",\n",
    "# value_term=u\"\\x0c0\",\n",
    "# text = f\"{prefix}{spacer}{key_term}{delimiter}{value_term}\"\n",
    "\n",
    "b = build_prefixed_regex_pattern_with_value(\n",
    "    prefix=prefix, key_term=key_term, delimiter=delimiter\n",
    ")\n",
    "\n",
    "b.search(text)"
   ]
  },
  {
   "cell_type": "code",
   "execution_count": null,
   "metadata": {},
   "outputs": [],
   "source": []
  }
 ],
 "metadata": {
  "kernelspec": {
   "display_name": "Python 3.9.10 ('.venv': venv)",
   "language": "python",
   "name": "python3"
  },
  "language_info": {
   "codemirror_mode": {
    "name": "ipython",
    "version": 3
   },
   "file_extension": ".py",
   "mimetype": "text/x-python",
   "name": "python",
   "nbconvert_exporter": "python",
   "pygments_lexer": "ipython3",
   "version": "3.9.10"
  },
  "vscode": {
   "interpreter": {
    "hash": "32e269cf0080e5d78d90d03fdac68272ba761dbfded2047b73ee17fa435bd3af"
   }
  }
 },
 "nbformat": 4,
 "nbformat_minor": 2
}
