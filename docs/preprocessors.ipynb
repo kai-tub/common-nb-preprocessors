{
 "cells": [
  {
   "cell_type": "markdown",
   "metadata": {},
   "source": [
    "# Preprocessors Reference\n",
    "\n",
    "This library provides a collection of useful [Preprocessors](/nbconvert_library.ipynb#custom-preprocessors) for {external+nbconvert:doc}`nbconvert <index>`:\n",
    "- [](metadata_list_injector)\n",
    "- [](metadata_map_injector)\n",
    "\n",
    "(metadata_list_injector)=\n",
    "## MetaDataListInjector\n",
    ":::{eval-rst}\n",
    ".. autoclass:: common_nb_preprocessors.metadata_injector.MetaDataListInjectorPreprocessor\n",
    "    :members:\n",
    ":::"
   ]
  },
  {
   "cell_type": "code",
   "execution_count": null,
   "metadata": {},
   "outputs": [],
   "source": [
    "# remove-cell\n",
    "import rich.pretty\n",
    "from functools import partial\n",
    "\n",
    "pprint = partial(rich.pretty.pprint, expand_all=True)"
   ]
  },
  {
   "cell_type": "code",
   "execution_count": null,
   "metadata": {},
   "outputs": [],
   "source": [
    "from nbformat.v4 import new_notebook, new_code_cell\n",
    "from common_nb_preprocessors.metadata_injector import (\n",
    "    MetaDataListInjectorPreprocessor,\n",
    "    MetaDataMapInjectorPreprocessor,\n",
    ")\n",
    "\n",
    "nb = new_notebook()\n",
    "nb.cells.append(new_code_cell(\"# remove-output\\nimport os\"))\n",
    "pprint(nb)"
   ]
  },
  {
   "cell_type": "code",
   "execution_count": null,
   "metadata": {},
   "outputs": [],
   "source": [
    "nb, _ = MetaDataListInjectorPreprocessor(\n",
    "    prefix=\"#\",\n",
    "    remove_line=True,\n",
    "    metadata_group=\"tags\",\n",
    "    strings=[\"remove-output\"],\n",
    ").preprocess(nb, None)\n",
    "assert nb.cells[0][\"source\"] == \"import os\"\n",
    "assert nb.cells[0][\"metadata\"][\"tags\"] == [\"remove-output\"]\n",
    "pprint(nb)"
   ]
  },
  {
   "cell_type": "markdown",
   "metadata": {},
   "source": [
    "(metadata_map_injector)=\n",
    "## MetaDataMapInjector\n",
    ":::{eval-rst}\n",
    ".. autoclass:: common_nb_preprocessors.metadata_injector.MetaDataMapInjectorPreprocessor\n",
    "    :members:\n",
    ":::"
   ]
  },
  {
   "cell_type": "code",
   "execution_count": null,
   "metadata": {},
   "outputs": [],
   "source": [
    "from nbformat.v4 import new_notebook, new_code_cell\n",
    "from common_nb_preprocessors.metadata_injector import MetaDataListInjectorPreprocessor\n",
    "\n",
    "nb = new_notebook()\n",
    "nb.cells.append(new_code_cell(\"# remove-output = true\\nimport os\"))\n",
    "pprint(nb)"
   ]
  },
  {
   "cell_type": "code",
   "execution_count": null,
   "metadata": {},
   "outputs": [],
   "source": [
    "nb, _ = MetaDataMapInjectorPreprocessor(\n",
    "    prefix=\"#\",\n",
    "    remove_line=True,\n",
    "    metadata_group=\"mystnb\",\n",
    "    keys=[\"remove-output\"],\n",
    "    delimiter=\"=\",\n",
    ").preprocess(nb, None)\n",
    "assert nb.cells[0][\"source\"] == \"import os\"\n",
    "assert nb.cells[0][\"metadata\"][\"mystnb\"] == {\"remove-output\": \"true\"}\n",
    "pprint(nb)"
   ]
  },
  {
   "cell_type": "code",
   "execution_count": null,
   "metadata": {},
   "outputs": [],
   "source": []
  }
 ],
 "metadata": {
  "kernelspec": {
   "display_name": "Python 3.9.10 ('.venv': venv)",
   "language": "python",
   "name": "python3"
  },
  "language_info": {
   "codemirror_mode": {
    "name": "ipython",
    "version": 3
   },
   "file_extension": ".py",
   "mimetype": "text/x-python",
   "name": "python",
   "nbconvert_exporter": "python",
   "pygments_lexer": "ipython3",
   "version": "3.9.10"
  },
  "vscode": {
   "interpreter": {
    "hash": "32e269cf0080e5d78d90d03fdac68272ba761dbfded2047b73ee17fa435bd3af"
   }
  }
 },
 "nbformat": 4,
 "nbformat_minor": 2
}
