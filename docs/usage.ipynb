{
 "cells": [
  {
   "cell_type": "markdown",
   "metadata": {},
   "source": [
    "# MyST-NB Usage\n",
    "\n",
    "The (probably) most useful function of this library is the `myst_nb_metadata_injector`.\n",
    "This allows you to write _magic-comments_ inside of your Jupyter code cells to inject metadata into those cells and configure the execution/rendering behavior of the [MyST-NB](https://myst-nb.readthedocs.io/en/latest/index.html) library.\n",
    "\n",
    "For example, with a simple comment like `# remove-input` you can hide the code cell in your rendered documentation and only show the output without having to fight with setting the metadata tags of your code cell.\n",
    "\n",
    "The main motivation for this functionality is to keep the configuration _local_ and not hide it behind an `metadata` window inside of the Jupyter Notebook UI.\n",
    "This is especially frustrating for users that use UIs that do not support configuring the code cell metadata, like VSCode.\n",
    "\n",
    "The inspiration for defining these options _in-line_ as comments comes from the awesome [nbdev](https://github.com/fastai/nbdev) library that takes a very different approach and uses notebooks as the source for _everything_. They generate the source code, documentation, and tests from notebooks.\n",
    "It is quite an interesting approach, that I would suggest everyone to talk a look at 😃."
   ]
  },
  {
   "cell_type": "markdown",
   "metadata": {},
   "source": [
    "## Enabling for MyST-NB\n",
    "\n",
    "To enable [Myst-NB](https://myst-nb.readthedocs.io/en/latest/index.html) to use the metadata injection preprocessor by default, you have to add the following code to your [conf.py](https://www.sphinx-doc.org/en/master/usage/configuration.html):\n",
    "\n",
    "\n",
    "```{literalinclude} conf.py\n",
    "---\n",
    "language: python\n",
    "start-after: enable-start\n",
    "end-before: enable-end\n",
    "---\n",
    "```\n",
    "\n",
    ":::{important}\n",
    "To overwrite the default `ipynb` extension parser, you are required to use `MyST-NB>=0.14.0`!\n",
    "At the time of writing, the [jupyter-book project](https://jupyterbook.org/en/stable/intro.html) (`v0.13`) fixes the `MyST-NB` version to `0.13.1` and _cannot_ overwrite the default `ipynb` format.\n",
    "\n",
    "You can rename your notebooks with a different extension (only characters after the last `.` are considered the extension) and use that option for the custom parser instead.\n",
    "The main issue with that approach is that some tools have a hard time working with a different extension for Jupyter notebooks (like VSCode).\n",
    ":::\n"
   ]
  },
  {
   "cell_type": "markdown",
   "metadata": {},
   "source": [
    "## Tag configuration"
   ]
  },
  {
   "cell_type": "markdown",
   "metadata": {},
   "source": [
    "At the time of writing, the following configuration keywords can be set in the `tags` metadata entry of a Jupyter code-cell:"
   ]
  },
  {
   "cell_type": "markdown",
   "metadata": {},
   "source": [
    "- [](remove-input)\n",
    "- [](remove-stderr)\n",
    "- [](remove-output)\n",
    "- [](remove-cell)\n",
    "- [](skip-execution)\n",
    "- [](raises-exception)"
   ]
  },
  {
   "cell_type": "markdown",
   "metadata": {},
   "source": [
    "For more details, see the `Cell tags` section of the {external+mystnb:doc}`MyST configuration documentation <configuration>`.\n",
    "\n",
    "To show the _effects_ of the different options, the article will be structured as follows:\n",
    "\n",
    "1. The jupyter-notebook cell's source code is shown. The visual indicator of the _source_ code of the code cell, is that the stylized code-cell has _no_ border around it.\n",
    "2. The jupyter-notebook cell's source code is displayed _after_ applying the preprocessor. This will remove the magic comment and inject the string into the metadata field (not shown here). The processed code cell is stylized with a white border and a green left-border. This is the rendered code cell you would be seeing in your documentation.\n",
    "3. The output of the executed code-cell is shown with a white bordered cell.\n",
    "\n",
    "And one last visual example to clarify the different _stages_:\n",
    "\n",
    "Source:\n",
    "```python\n",
    "# I am stage 1 and show the 'source' code of\n",
    "# the code cell\n",
    "```"
   ]
  },
  {
   "cell_type": "markdown",
   "metadata": {},
   "source": [
    "Rendered:"
   ]
  },
  {
   "cell_type": "code",
   "execution_count": null,
   "metadata": {},
   "outputs": [],
   "source": [
    "# magic-comment\n",
    "\"\"\"\n",
    "I am stage 2 and show the post-processed code cell.\n",
    "If the magic comment matches one of the MyST-NB tags\n",
    "it would be removed from this cell and injected into the\n",
    "metadata field.\n",
    "\"\"\"\n",
    "print(\"I am the rendered code cell output\")"
   ]
  },
  {
   "cell_type": "markdown",
   "metadata": {},
   "source": [
    "### no-match example\n",
    "\n",
    "Example showing what happens with code cells that do _not_ include magic comments/are _normal_ code cells.\n",
    "\n",
    "Source:\n",
    "```python\n",
    "# unknown\n",
    "print(\"Example showing what happens if the cell doesn't include a magic comment\")\n",
    "```"
   ]
  },
  {
   "cell_type": "markdown",
   "metadata": {},
   "source": [
    "Rendered:"
   ]
  },
  {
   "cell_type": "code",
   "execution_count": null,
   "metadata": {},
   "outputs": [],
   "source": [
    "# unknown\n",
    "print(\"Example showing what happens if the cell doesn't include a magic comment\")"
   ]
  },
  {
   "cell_type": "markdown",
   "metadata": {},
   "source": [
    "Not so surprisingly, nothing much happens with those code-cells. They are simply executed and rendered as-is."
   ]
  },
  {
   "cell_type": "markdown",
   "metadata": {},
   "source": [
    "(remove-input)=\n",
    "### remove-input"
   ]
  },
  {
   "cell_type": "markdown",
   "metadata": {},
   "source": [
    "Hides the source code of the cell.\n",
    "Useful if you are only interested in the output.\n",
    "\n",
    "Source:\n",
    "```python\n",
    "# remove-input\n",
    "print(\"My code cell is hidden\")\n",
    "```"
   ]
  },
  {
   "cell_type": "markdown",
   "metadata": {},
   "source": [
    "Rendered:"
   ]
  },
  {
   "cell_type": "code",
   "execution_count": null,
   "metadata": {},
   "outputs": [],
   "source": [
    "# remove-input\n",
    "print(\"My code cell is hidden\")"
   ]
  },
  {
   "cell_type": "markdown",
   "metadata": {},
   "source": [
    "(remove-stderr)=\n",
    "### remove-stderr"
   ]
  },
  {
   "cell_type": "markdown",
   "metadata": {},
   "source": [
    "Only remove the standard error output of the code cell.\n",
    "This is useful if an underlying library uses `stderr` to print progress or other debug messages that would only pollute the output for the documentation.\n",
    "\n",
    "Source:\n",
    "```python\n",
    "# remove-stderr\n",
    "import sys\n",
    "print(\"The stderr output is removed\", file=sys.stderr)\n",
    "print(\"But not the default output\")\n",
    "```"
   ]
  },
  {
   "cell_type": "markdown",
   "metadata": {},
   "source": [
    "Rendered:"
   ]
  },
  {
   "cell_type": "code",
   "execution_count": null,
   "metadata": {},
   "outputs": [],
   "source": [
    "# remove-stderr\n",
    "import sys\n",
    "\n",
    "print(\"The stderr output is removed\", file=sys.stderr)\n",
    "print(\"But not the default output\")"
   ]
  },
  {
   "cell_type": "markdown",
   "metadata": {},
   "source": [
    "(remove-output)=\n",
    "### remove-output"
   ]
  },
  {
   "cell_type": "markdown",
   "metadata": {},
   "source": [
    "Remove the output of the code cell (duh).\n",
    "Useful to hide some warning during important without having filter the messages or to hide visual output.\n",
    "\n",
    "Source:\n",
    "```python\n",
    "# remove-output\n",
    "import sys\n",
    "print(\"My output is removed\")\n",
    "print(\"including the error output\", file=sys.stderr)\n",
    "```"
   ]
  },
  {
   "cell_type": "markdown",
   "metadata": {},
   "source": [
    "Rendered:"
   ]
  },
  {
   "cell_type": "code",
   "execution_count": null,
   "metadata": {},
   "outputs": [],
   "source": [
    "# remove-output\n",
    "import sys\n",
    "\n",
    "print(\"My output is removed\")\n",
    "print(\"including the error output\", file=sys.stderr)"
   ]
  },
  {
   "cell_type": "markdown",
   "metadata": {},
   "source": [
    "(remove-cell)=\n",
    "### remove-cell"
   ]
  },
  {
   "cell_type": "markdown",
   "metadata": {},
   "source": [
    "Hide the input as well as the output of the executed cell.\n",
    "\n",
    "Source:\n",
    "```python\n",
    "# remove-cell\n",
    "print(\"This entire cell is removed\")\n",
    "```"
   ]
  },
  {
   "cell_type": "markdown",
   "metadata": {},
   "source": [
    "Rendered:"
   ]
  },
  {
   "cell_type": "code",
   "execution_count": null,
   "metadata": {},
   "outputs": [],
   "source": [
    "# remove-cell\n",
    "print(\"This entire cell is removed\")"
   ]
  },
  {
   "cell_type": "markdown",
   "metadata": {},
   "source": [
    "As you can (can't ?) see the cell is missing from the documentation page.\n",
    "\n",
    "```{note}\n",
    "The code-cell is still executed under the hood!\n",
    "```"
   ]
  },
  {
   "cell_type": "markdown",
   "metadata": {},
   "source": [
    "(raises-exception)=\n",
    "### raises-exception\n",
    "\n",
    "The following code raises an exception and has \n",
    "`raises-exception` set to signal that the exception  is expected and continues with the execution and build process of the documentation.\n",
    "This is helpful, if you are showing examples of _failing_ code and want to include the trace-back.\n",
    "\n",
    "Source:\n",
    "```python\n",
    "# raises-exception\n",
    "1 / 0\n",
    "```"
   ]
  },
  {
   "cell_type": "markdown",
   "metadata": {},
   "source": [
    "Rendered:"
   ]
  },
  {
   "cell_type": "code",
   "execution_count": null,
   "metadata": {},
   "outputs": [],
   "source": [
    "# raises-exception\n",
    "1 / 0"
   ]
  },
  {
   "cell_type": "markdown",
   "metadata": {},
   "source": [
    "(skip-execution)=\n",
    "### skip-execution\n",
    "\n",
    "The following code _would_ raise an exception but the execution of the cell is skipped and not exception is raised.\n",
    "\n",
    "\n",
    "Source:\n",
    "```python\n",
    "# skip-execution\n",
    "1 / 0\n",
    "```"
   ]
  },
  {
   "cell_type": "markdown",
   "metadata": {},
   "source": [
    "Rendered:"
   ]
  },
  {
   "cell_type": "code",
   "execution_count": null,
   "metadata": {},
   "outputs": [],
   "source": [
    "# skip-execution\n",
    "1 / 0"
   ]
  },
  {
   "cell_type": "markdown",
   "metadata": {},
   "source": [
    "Notice how no output is produced and no exception is raised."
   ]
  },
  {
   "cell_type": "markdown",
   "metadata": {},
   "source": [
    "## Cell conf"
   ]
  },
  {
   "cell_type": "code",
   "execution_count": null,
   "metadata": {},
   "outputs": [],
   "source": [
    "# remove_code_source = true\n",
    "\n",
    "print(\"My code source should be removed\")"
   ]
  },
  {
   "cell_type": "code",
   "execution_count": null,
   "metadata": {},
   "outputs": [],
   "source": []
  }
 ],
 "metadata": {
  "kernelspec": {
   "display_name": "Python 3.9.10 ('.venv': venv)",
   "language": "python",
   "name": "python3"
  },
  "language_info": {
   "codemirror_mode": {
    "name": "ipython",
    "version": 3
   },
   "file_extension": ".py",
   "mimetype": "text/x-python",
   "name": "python",
   "nbconvert_exporter": "python",
   "pygments_lexer": "ipython3",
   "version": "3.9.10"
  },
  "vscode": {
   "interpreter": {
    "hash": "32e269cf0080e5d78d90d03fdac68272ba761dbfded2047b73ee17fa435bd3af"
   }
  }
 },
 "nbformat": 4,
 "nbformat_minor": 2
}
